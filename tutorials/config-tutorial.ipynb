{
 "cells": [
  {
   "cell_type": "markdown",
   "metadata": {},
   "source": [
    "# Config Objects\n",
    "\n",
    "In `omni-fig`, all arguments and settings are contained in the config object, no matter how they were specified (in a config file, through the terminal, or in python). The config object can have a nested structure to specify\n",
    "\n",
    "This tutorial will discuss simple ways to create and manipulate config objects."
   ]
  },
  {
   "cell_type": "code",
   "execution_count": 1,
   "metadata": {},
   "outputs": [],
   "source": [
    "import omnifig as fig\n",
    "from yaml import dump"
   ]
  },
  {
   "cell_type": "code",
   "execution_count": 2,
   "metadata": {},
   "outputs": [],
   "source": [
    "def viz(config): # Utility function to print out config objects nicely\n",
    "    print(dump(config.pythonize()), end='')"
   ]
  },
  {
   "cell_type": "markdown",
   "metadata": {},
   "source": [
    "## Creating Config objects\n",
    "\n",
    "Config objects can be created using `fig.get_config()`, which allows you to either pass a nested dictionary to specify the parameters directly."
   ]
  },
  {
   "cell_type": "code",
   "execution_count": 3,
   "metadata": {},
   "outputs": [],
   "source": [
    "fig.get_config?"
   ]
  },
  {
   "cell_type": "code",
   "execution_count": 15,
   "metadata": {},
   "outputs": [
    {
     "name": "stdout",
     "output_type": "stream",
     "text": [
      "a: 1\n",
      "b: test\n",
      "c:\n",
      "  x: 123.2\n",
      "  y: '12'\n",
      "ls:\n",
      "- '1'\n",
      "- 123\n",
      "- inside: a list\n"
     ]
    }
   ],
   "source": [
    "raw_params = {'a': 1, 'b': 'test', 'c':{'x':123.2, 'y':'12'}, 'ls':['1', 123, {'inside':'a list'}]}\n",
    "\n",
    "config1 = fig.get_config(**raw_params)\n",
    "viz(config1)"
   ]
  },
  {
   "cell_type": "markdown",
   "metadata": {},
   "source": [
    "However, probably the most common way to create config objects is by loading one or multiple existing config files. When specifying multiple files, they are composed with the same multiple-inheritance rules as python classes. Usually, all config files of a project are registered when the project is initialized (more on this later), but for now we'll just manually register all configs in the `config/` directory. You can then view all of the configs that are registered."
   ]
  },
  {
   "cell_type": "code",
   "execution_count": 9,
   "metadata": {},
   "outputs": [
    {
     "name": "stdout",
     "output_type": "stream",
     "text": [
      "['advanced', 'basic', 'data/large', 'data/small', 'data/_shared', 'power', 'small-change']\n"
     ]
    }
   ],
   "source": [
    "fig.register_config_dir('config/')\n",
    "print(list(fig.view_configs()))"
   ]
  },
  {
   "cell_type": "code",
   "execution_count": 12,
   "metadata": {},
   "outputs": [
    {
     "name": "stdout",
     "output_type": "stream",
     "text": [
      "ancestors:\n",
      "- basic\n",
      "device: cheap-cpu\n",
      "epochs: 25\n",
      "favorite-device: <>device\n",
      "model:\n",
      "  _type: simple-model\n",
      "  size: 10\n",
      "name: basic\n",
      "root: test/dir\n"
     ]
    }
   ],
   "source": [
    "config2 = fig.get_config('basic')\n",
    "viz(config2)"
   ]
  },
  {
   "cell_type": "code",
   "execution_count": 13,
   "metadata": {},
   "outputs": [
    {
     "name": "stdout",
     "output_type": "stream",
     "text": [
      "ancestors:\n",
      "- small-change\n",
      "- basic\n",
      "device: good-gpu\n",
      "epochs: 25\n",
      "favorite-device: <>device\n",
      "model:\n",
      "  _type: variant-model\n",
      "  size: 10\n",
      "  special-sauce: -2\n",
      "name: updated-experiment\n",
      "root: test/dir\n"
     ]
    }
   ],
   "source": [
    "config3 = fig.get_config('small-change', 'basic')\n",
    "viz(config3)"
   ]
  },
  {
   "cell_type": "markdown",
   "metadata": {},
   "source": [
    "Note that the `ancestors` key holds an ordered list of all the config files that were composed to create this config object."
   ]
  },
  {
   "cell_type": "markdown",
   "metadata": {},
   "source": [
    "## Pulling Information from the Config object\n",
    "\n",
    "The main way you extract information from the config object is using the `pull()` function. By default, everytime you pull something from the config object, it prints a line of the result to the console so you always know what information your script actually got."
   ]
  },
  {
   "cell_type": "code",
   "execution_count": 26,
   "metadata": {},
   "outputs": [
    {
     "name": "stdout",
     "output_type": "stream",
     "text": [
      "| a: 1\n",
      "| b: 'test'\n",
      "a is 1\n",
      "b is test\n",
      "c is {'x': 123.2, 'y': '12'}\n"
     ]
    }
   ],
   "source": [
    "a = config1.pull('a')\n",
    "b = config1.pull('b')\n",
    "print(f'a is {a}')\n",
    "print(f'b is {b}')\n",
    "\n",
    "c = config1.pull('c', silent=True)\n",
    "print(f'c is {c}')"
   ]
  },
  {
   "cell_type": "code",
   "execution_count": 33,
   "metadata": {},
   "outputs": [
    {
     "name": "stdout",
     "output_type": "stream",
     "text": [
      "| c.x: 123.2\n",
      "| ls.2.inside: 'a list'\n"
     ]
    },
    {
     "data": {
      "text/plain": [
       "'a list'"
      ]
     },
     "execution_count": 33,
     "metadata": {},
     "output_type": "execute_result"
    }
   ],
   "source": [
    "config1.pull('c.x')\n",
    "config1.pull('ls.2.inside')"
   ]
  },
  {
   "cell_type": "code",
   "execution_count": 28,
   "metadata": {},
   "outputs": [
    {
     "name": "stdout",
     "output_type": "stream",
     "text": [
      "| z: 'uh oh' (by default)\n"
     ]
    },
    {
     "data": {
      "text/plain": [
       "'uh oh'"
      ]
     },
     "execution_count": 28,
     "metadata": {},
     "output_type": "execute_result"
    }
   ],
   "source": [
    "config1.pull('c.z', 'uh oh') # you can provide a default value"
   ]
  },
  {
   "cell_type": "code",
   "execution_count": 31,
   "metadata": {},
   "outputs": [
    {
     "name": "stdout",
     "output_type": "stream",
     "text": [
      "| z --> c.x: 123.2\n",
      "| q --> r --> s: 'failed' (by default)\n"
     ]
    },
    {
     "data": {
      "text/plain": [
       "'failed'"
      ]
     },
     "execution_count": 31,
     "metadata": {},
     "output_type": "execute_result"
    }
   ],
   "source": [
    "config1.pull('c.z', '<>c.x') # the prefix \"<>\" turns the string into an address\n",
    "config1.pull('c.q', '<>c.r', '<>c.s', 'failed') # you can pass multiple default values"
   ]
  },
  {
   "cell_type": "code",
   "execution_count": 32,
   "metadata": {},
   "outputs": [
    {
     "name": "stdout",
     "output_type": "stream",
     "text": [
      "| .a: 1\n"
     ]
    },
    {
     "data": {
      "text/plain": [
       "1"
      ]
     },
     "execution_count": 32,
     "metadata": {},
     "output_type": "execute_result"
    }
   ],
   "source": [
    "config1.pull('c.a') # dictionaries by default check their parents if they can't find the parameter themselves."
   ]
  }
 ],
 "metadata": {
  "kernelspec": {
   "display_name": "Python 3",
   "language": "python",
   "name": "python3"
  },
  "language_info": {
   "codemirror_mode": {
    "name": "ipython",
    "version": 3
   },
   "file_extension": ".py",
   "mimetype": "text/x-python",
   "name": "python",
   "nbconvert_exporter": "python",
   "pygments_lexer": "ipython3",
   "version": "3.7.4"
  }
 },
 "nbformat": 4,
 "nbformat_minor": 4
}
