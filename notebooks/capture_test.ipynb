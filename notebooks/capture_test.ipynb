{
 "cells": [
  {
   "cell_type": "code",
   "execution_count": 1,
   "metadata": {
    "collapsed": true,
    "pycharm": {
     "name": "#%%\n"
    }
   },
   "outputs": [],
   "source": [
    "from omnibelt import tricks as trx"
   ]
  },
  {
   "cell_type": "code",
   "execution_count": 2,
   "outputs": [
    {
     "name": "stdout",
     "output_type": "stream",
     "text": [
      "f <function A2.f at 0x000002333D240040>\n",
      "g <bound method A2.g of <class '__main__.A2'>>\n",
      "h <function A2.h at 0x000002333D240160>\n"
     ]
    }
   ],
   "source": [
    "class A(trx.capturable_method):\n",
    "    @classmethod\n",
    "    def captured_method_call(cls, self, src, fn, args, kwargs):\n",
    "        print('captured', cls, src, fn, args, kwargs)\n",
    "        return super().captured_method_call(self, src, fn, args, kwargs)\n",
    "\n",
    "    @trx.captured_method\n",
    "    def f(*args, **kwargs):\n",
    "        print('f', args, kwargs)\n",
    "\n",
    "    @trx.captured_method\n",
    "    @classmethod\n",
    "    def g(*args, **kwargs):\n",
    "        print('g', args, kwargs)\n",
    "\n",
    "    @trx.captured_method\n",
    "    @staticmethod\n",
    "    def h(*args, **kwargs):\n",
    "        print('h', args, kwargs)\n",
    "\n",
    "class B(A):\n",
    "    pass\n",
    "\n",
    "class A2(trx.auto_methods, inheritable_auto_methods=['f', 'g', 'h']):\n",
    "    @classmethod\n",
    "    def captured_method_call(cls, self, src, fn, args, kwargs):\n",
    "        print('captured', cls, self, src, fn, args, kwargs)\n",
    "        return super().captured_method_call(self, src, fn, args, kwargs)\n",
    "\n",
    "    def f(*args, **kwargs):\n",
    "        print('f', args, kwargs)\n",
    "\n",
    "    @classmethod\n",
    "    def g(*args, **kwargs):\n",
    "        print('g', args, kwargs)\n",
    "\n",
    "    @staticmethod\n",
    "    def h(*args, **kwargs):\n",
    "        print('h', args, kwargs)\n",
    "\n",
    "class B2(A2):\n",
    "    pass\n",
    "\n",
    "# print(A.f, A.g, A.h, A().f, A().g, A().h)\n",
    "# print(A.)"
   ],
   "metadata": {
    "collapsed": false,
    "pycharm": {
     "name": "#%%\n"
    }
   }
  },
  {
   "cell_type": "code",
   "execution_count": 3,
   "outputs": [
    {
     "data": {
      "text/plain": "(<future_method f of B2>,\n <future_method g of B2>,\n <future_method h of B2>,\n <future_method f of B2 bound to <__main__.B2 object at 0x000002333D1ED160>>,\n <future_method g of B2 bound to <__main__.B2 object at 0x000002333D217C10>>,\n <future_method h of B2 bound to <__main__.B2 object at 0x000002333D217490>>)"
     },
     "execution_count": 3,
     "metadata": {},
     "output_type": "execute_result"
    }
   ],
   "source": [
    "base = B2\n",
    "\n",
    "base.f, base.g, base.h, base().f, base().g, base().h"
   ],
   "metadata": {
    "collapsed": false,
    "pycharm": {
     "name": "#%%\n"
    }
   }
  },
  {
   "cell_type": "code",
   "execution_count": 4,
   "outputs": [
    {
     "name": "stdout",
     "output_type": "stream",
     "text": [
      "captured <class '__main__.B2'> None <class '__main__.A2'> <bound method A2.g of <class '__main__.B2'>> () {}\n",
      "g (<class '__main__.B2'>,) {}\n",
      "captured <class '__main__.B2'> None <class '__main__.A2'> <function A2.h at 0x000002333D240160> () {}\n",
      "h () {}\n",
      "captured <class '__main__.B2'> <__main__.B2 object at 0x000002333D201790> <class '__main__.A2'> <bound method A2.f of <__main__.B2 object at 0x000002333D201790>> () {}\n",
      "f (<__main__.B2 object at 0x000002333D201790>,) {}\n",
      "captured <class '__main__.B2'> None <class '__main__.A2'> <bound method A2.g of <class '__main__.B2'>> () {}\n",
      "g (<class '__main__.B2'>,) {}\n",
      "captured <class '__main__.B2'> None <class '__main__.A2'> <function A2.h at 0x000002333D240160> () {}\n",
      "h () {}\n"
     ]
    }
   ],
   "source": [
    "base.g(), base.h(), base().f(), base().g(), base().h();"
   ],
   "metadata": {
    "collapsed": false,
    "pycharm": {
     "name": "#%%\n"
    }
   }
  },
  {
   "cell_type": "code",
   "execution_count": null,
   "outputs": [],
   "source": [],
   "metadata": {
    "collapsed": false,
    "pycharm": {
     "name": "#%%\n"
    }
   }
  }
 ],
 "metadata": {
  "kernelspec": {
   "display_name": "Python 3",
   "language": "python",
   "name": "python3"
  },
  "language_info": {
   "codemirror_mode": {
    "name": "ipython",
    "version": 2
   },
   "file_extension": ".py",
   "mimetype": "text/x-python",
   "name": "python",
   "nbconvert_exporter": "python",
   "pygments_lexer": "ipython2",
   "version": "2.7.6"
  }
 },
 "nbformat": 4,
 "nbformat_minor": 0
}