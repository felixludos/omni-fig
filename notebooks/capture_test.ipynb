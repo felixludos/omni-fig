{
 "cells": [
  {
   "cell_type": "code",
   "execution_count": 1,
   "metadata": {
    "collapsed": true
   },
   "outputs": [],
   "source": [
    "from omnibelt import tricks as trx"
   ]
  },
  {
   "cell_type": "code",
   "execution_count": 2,
   "outputs": [
    {
     "name": "stdout",
     "output_type": "stream",
     "text": [
      "<future_method f of A> <future_method g of A> <future_method h of A> <future_method f of A bound to <__main__.A object at 0x000002D6FBB799A0>> <future_method g of A bound to <__main__.A object at 0x000002D6FBB796A0>> <future_method h of A bound to <__main__.A object at 0x000002D6FBB795B0>>\n"
     ]
    }
   ],
   "source": [
    "class A(trx.capturable_method):\n",
    "    @trx.captured_method\n",
    "    def f(*args, **kwargs):\n",
    "        print('f', args, kwargs)\n",
    "\n",
    "    @trx.captured_method\n",
    "    @classmethod\n",
    "    def g(*args, **kwargs):\n",
    "        print('g', args, kwargs)\n",
    "\n",
    "    @trx.captured_method\n",
    "    @staticmethod\n",
    "    def h(*args, **kwargs):\n",
    "        print('h', args, kwargs)\n",
    "\n",
    "# print(A.f, A.g, A.h, A().f, A().g, A().h)\n",
    "# print(A.)"
   ],
   "metadata": {
    "collapsed": false
   }
  },
  {
   "cell_type": "code",
   "execution_count": 4,
   "outputs": [
    {
     "data": {
      "text/plain": "(<future_method f of A>,\n <future_method g of A>,\n <future_method h of A>,\n <future_method f of A bound to <__main__.A object at 0x000002D6FBCD44F0>>,\n <future_method g of A bound to <__main__.A object at 0x000002D6FBB6CAC0>>,\n <future_method h of A bound to <__main__.A object at 0x000002D6FBB6C7F0>>)"
     },
     "execution_count": 4,
     "metadata": {},
     "output_type": "execute_result"
    }
   ],
   "source": [
    "A.f, A.g, A.h, A().f, A().g, A().h"
   ],
   "metadata": {
    "collapsed": false
   }
  },
  {
   "cell_type": "code",
   "execution_count": 8,
   "outputs": [
    {
     "name": "stdout",
     "output_type": "stream",
     "text": [
      "f () {}\n",
      "g (<class '__main__.A'>,) {}\n",
      "h () {}\n",
      "f (<__main__.A object at 0x000002CDF4C86520>,) {}\n",
      "g (<class '__main__.A'>,) {}\n",
      "h () {}\n"
     ]
    }
   ],
   "source": [
    "A.f(), A.g(), A.h(), A().f(), A().g(), A().h();"
   ],
   "metadata": {
    "collapsed": false
   }
  },
  {
   "cell_type": "code",
   "execution_count": null,
   "outputs": [],
   "source": [],
   "metadata": {
    "collapsed": false
   }
  },
  {
   "cell_type": "code",
   "execution_count": null,
   "outputs": [],
   "source": [],
   "metadata": {
    "collapsed": false
   }
  }
 ],
 "metadata": {
  "kernelspec": {
   "display_name": "Python 3",
   "language": "python",
   "name": "python3"
  },
  "language_info": {
   "codemirror_mode": {
    "name": "ipython",
    "version": 2
   },
   "file_extension": ".py",
   "mimetype": "text/x-python",
   "name": "python",
   "nbconvert_exporter": "python",
   "pygments_lexer": "ipython2",
   "version": "2.7.6"
  }
 },
 "nbformat": 4,
 "nbformat_minor": 0
}
